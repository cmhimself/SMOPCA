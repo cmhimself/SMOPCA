{
 "cells": [
  {
   "cell_type": "code",
   "execution_count": 2,
   "metadata": {},
   "outputs": [],
   "source": [
    "import logging\n",
    "import h5py\n",
    "import numpy as np\n",
    "import warnings\n",
    "from SMOPCA import SMOPCA, utils\n",
    "from sklearn.cluster import KMeans\n",
    "\n",
    "for handler in logging.root.handlers[:]:  # avoid DEBUG level information in jupyter notebook\n",
    "    logging.root.removeHandler(handler)\n",
    "logging.basicConfig(level=logging.INFO)  # use DEBUG for verbose information\n",
    "warnings.filterwarnings('ignore')\n",
    "\n",
    "data_file = h5py.File(\"../data/RealData/CITEseq/SLN111D1.h5\", 'r')\n",
    "X1 = np.array(data_file['X1'])  # gene\n",
    "X2 = np.array(data_file['X2'])  # protein\n",
    "pos = np.array(data_file['pos'])  # umap pos\n",
    "y = np.array(data_file['Y'])\n",
    "data_file.close()"
   ]
  },
  {
   "cell_type": "code",
   "execution_count": 3,
   "metadata": {},
   "outputs": [
    {
     "name": "stdout",
     "output_type": "stream",
     "text": [
      "selecting top 1000 hvg for modality 1\n",
      "Chosen offset: 0.26\n",
      "normalizing counts\n"
     ]
    },
    {
     "name": "stderr",
     "output_type": "stream",
     "text": [
      "INFO:SMOPCA:SMOPCA object created, with 8853 cells and [1000, 110] features\n",
      "INFO:SMOPCA:calculating matern kernel, nu = 1.5, length_scale = 0.25\n",
      "INFO:SMOPCA:start estimating parameters, this will take a while...\n",
      "INFO:SMOPCA:estimating sigma1\n",
      "INFO:SMOPCA:sigma1 using bound: (0.70000, 0.80000)\n",
      "INFO:SMOPCA:iter 0 sigma1 brentq done, sigma1sqr = 1.00000, sigma1hatsqr = 0.72547\n",
      "INFO:SMOPCA:iter 1 sigma1 brentq done, sigma1sqr = 0.72547, sigma1hatsqr = 0.72538\n",
      "INFO:SMOPCA:iter 2 sigma1 brentq done, sigma1sqr = 0.72538, sigma1hatsqr = 0.72538\n",
      "INFO:SMOPCA:reach tolerance threshold, sigma1 done!\n",
      "INFO:SMOPCA:estimating sigma2\n",
      "INFO:SMOPCA:sigma2 using bound: (0.60000, 0.70000)\n",
      "INFO:SMOPCA:iter 0 sigma2 brentq done, sigma2sqr = 1.00000, sigma2hatsqr = 0.66561\n",
      "INFO:SMOPCA:iter 1 sigma2 brentq done, sigma2sqr = 0.66561, sigma2hatsqr = 0.66545\n",
      "INFO:SMOPCA:iter 2 sigma2 brentq done, sigma2sqr = 0.66545, sigma2hatsqr = 0.66545\n",
      "INFO:SMOPCA:reach tolerance threshold, sigma2 done!\n",
      "INFO:SMOPCA:estimation complete!\n",
      "INFO:SMOPCA:sigma1hatsqr = 0.72538\n",
      "INFO:SMOPCA:sigma2hatsqr = 0.66545\n",
      "INFO:SMOPCA:calculating posterior\n"
     ]
    },
    {
     "name": "stdout",
     "output_type": "stream",
     "text": [
      "AMI=0.7210, NMI=0.7255, ARI=0.6291\n"
     ]
    }
   ],
   "source": [
    "X1, X2 = utils.preprocess_hvg(x_list=[X1, X2], select_list=[True, False], top=1000)  # select hvg for genes only, considering the number of proteins\n",
    "smopca = SMOPCA(Y_list=[X1.T, X2.T], Z_dim=20)\n",
    "smopca.buildKernel(pos=pos, kernel_type='matern', length_scale=0.25)\n",
    "smopca.estimateSigmaW(sigma_init_list=(1, 1), tol=2e-5, sigma_xtol_list=(1e-6, 1e-6))\n",
    "z = smopca.calculatePosterior()\n",
    "y_pred = KMeans(n_clusters=len(np.unique(y)), n_init=100).fit_predict(z.T)\n",
    "ami, nmi, ari = utils.clustering_metric(y, y_pred)\n",
    "print(\"AMI={:.4f}, NMI={:.4f}, ARI={:.4f}\".format(ami, nmi, ari))"
   ]
  }
 ],
 "metadata": {
  "kernelspec": {
   "display_name": "mspca",
   "language": "python",
   "name": "python3"
  },
  "language_info": {
   "codemirror_mode": {
    "name": "ipython",
    "version": 3
   },
   "file_extension": ".py",
   "mimetype": "text/x-python",
   "name": "python",
   "nbconvert_exporter": "python",
   "pygments_lexer": "ipython3",
   "version": "3.10.0"
  }
 },
 "nbformat": 4,
 "nbformat_minor": 2
}
